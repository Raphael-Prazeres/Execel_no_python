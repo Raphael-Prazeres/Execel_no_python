{
 "cells": [
  {
   "cell_type": "markdown",
   "metadata": {},
   "source": [
    "# Funções do Excel em Python"
   ]
  },
  {
   "cell_type": "markdown",
   "metadata": {},
   "source": [
    "## PROCV -> MERGE"
   ]
  },
  {
   "cell_type": "code",
   "execution_count": 27,
   "metadata": {},
   "outputs": [
    {
     "name": "stdout",
     "output_type": "stream",
     "text": [
      "DataFrame 1\n",
      "   ID    Nome\n",
      "0  A1     Ana\n",
      "1  B5  Carlos\n",
      "2  E3  Thiago\n",
      "3  A4   Pedro\n",
      "DataFrame 2\n",
      "   ID  Salario\n",
      "0  Z9     5000\n",
      "1  B5     3400\n",
      "2  E3     2500\n",
      "3  A4     8000\n",
      "DataFrame final\n",
      "   ID    Nome  Salario\n",
      "0  A1     Ana      NaN\n",
      "1  B5  Carlos   3400.0\n",
      "2  E3  Thiago   2500.0\n",
      "3  A4   Pedro   8000.0\n"
     ]
    }
   ],
   "source": [
    "import pandas as pd\n",
    "\n",
    "# DataFrame que recebe informação\n",
    "df1 = pd.DataFrame({'ID':['A1','B5','E3','A4'],\n",
    "                    'Nome':['Ana','Carlos','Thiago','Pedro']})\n",
    "\n",
    "# DataFrame de busca\n",
    "df2 = pd.DataFrame({'ID':['Z9','B5','E3','A4'],\n",
    "                    'Salario':[5000,3400,2500,8000]})\n",
    "\n",
    "# Procv no Python\n",
    "resultado = df1.merge(df2, on='ID', how='left')\n",
    "\n",
    "# DataFrame final:\n",
    "print('DataFrame 1')\n",
    "print(f'{df1}')\n",
    "print('DataFrame 2')\n",
    "print(f'{df2}')\n",
    "print('DataFrame final')\n",
    "print(f'{resultado}')"
   ]
  },
  {
   "cell_type": "markdown",
   "metadata": {},
   "source": [
    "## TABELA DINÂMICA -> PIVOT TABLE"
   ]
  },
  {
   "cell_type": "code",
   "execution_count": 28,
   "metadata": {},
   "outputs": [
    {
     "data": {
      "text/html": [
       "<div>\n",
       "<style scoped>\n",
       "    .dataframe tbody tr th:only-of-type {\n",
       "        vertical-align: middle;\n",
       "    }\n",
       "\n",
       "    .dataframe tbody tr th {\n",
       "        vertical-align: top;\n",
       "    }\n",
       "\n",
       "    .dataframe thead th {\n",
       "        text-align: right;\n",
       "    }\n",
       "</style>\n",
       "<table border=\"1\" class=\"dataframe\">\n",
       "  <thead>\n",
       "    <tr style=\"text-align: right;\">\n",
       "      <th>Produto</th>\n",
       "      <th>A</th>\n",
       "      <th>B</th>\n",
       "    </tr>\n",
       "    <tr>\n",
       "      <th>Região</th>\n",
       "      <th></th>\n",
       "      <th></th>\n",
       "    </tr>\n",
       "  </thead>\n",
       "  <tbody>\n",
       "    <tr>\n",
       "      <th>Norte</th>\n",
       "      <td>400</td>\n",
       "      <td>200</td>\n",
       "    </tr>\n",
       "    <tr>\n",
       "      <th>Sul</th>\n",
       "      <td>150</td>\n",
       "      <td>150</td>\n",
       "    </tr>\n",
       "  </tbody>\n",
       "</table>\n",
       "</div>"
      ],
      "text/plain": [
       "Produto    A    B\n",
       "Região           \n",
       "Norte    400  200\n",
       "Sul      150  150"
      ]
     },
     "execution_count": 28,
     "metadata": {},
     "output_type": "execute_result"
    }
   ],
   "source": [
    "import pandas as pd\n",
    "\n",
    "# Construindo o DataFrame exemplo\n",
    "data = {'Região':['Norte','Sul','Norte','Sul','Norte','Sul'],\n",
    "        'Produto':['A','A','B','B','A','B'],\n",
    "        'Vendas':[100,150,200,50,300,100]}\n",
    "\n",
    "df = pd.DataFrame(data)\n",
    "\n",
    "# Constroi a tabela dinâmica\n",
    "pivot_df = df.pivot_table(index='Região', columns='Produto',\n",
    "                          values='Vendas', aggfunc='sum')\n",
    "\n",
    "# Tabela dinâmica\n",
    "pivot_df"
   ]
  },
  {
   "cell_type": "markdown",
   "metadata": {},
   "source": [
    "## SE -> NP.WHERE"
   ]
  },
  {
   "cell_type": "code",
   "execution_count": 35,
   "metadata": {},
   "outputs": [
    {
     "name": "stdout",
     "output_type": "stream",
     "text": [
      "   Id  Idade Maior_de_Idade_1 Maior_de_Idade_2\n",
      "0   1     17              Não              Não\n",
      "1   2     20              Sim              Sim\n",
      "2   3     19              Sim              Sim\n",
      "3   4     15              Não              Não\n"
     ]
    }
   ],
   "source": [
    "import pandas as pd\n",
    "import numpy as np\n",
    "\n",
    "# Cria DataFrame\n",
    "df = pd.DataFrame({'Id':[1, 2, 3, 4],\n",
    "                   'Idade':[17,20,19,15]})\n",
    "\n",
    "# Opção 1\n",
    "df['Maior_de_Idade_1'] = np.where(df['Idade'] >= 18, 'Sim','Não')\n",
    "\n",
    "# Opção 2\n",
    "df['Maior_de_Idade_2'] = ['Sim' if Idade >= 18 else 'Não'\n",
    "                        for Idade in df['Idade']]\n",
    "\n",
    "print(df)"
   ]
  },
  {
   "cell_type": "markdown",
   "metadata": {},
   "source": [
    "## Outras funcionalidades"
   ]
  },
  {
   "cell_type": "code",
   "execution_count": 40,
   "metadata": {},
   "outputs": [
    {
     "data": {
      "text/html": [
       "<div>\n",
       "<style scoped>\n",
       "    .dataframe tbody tr th:only-of-type {\n",
       "        vertical-align: middle;\n",
       "    }\n",
       "\n",
       "    .dataframe tbody tr th {\n",
       "        vertical-align: top;\n",
       "    }\n",
       "\n",
       "    .dataframe thead th {\n",
       "        text-align: right;\n",
       "    }\n",
       "</style>\n",
       "<table border=\"1\" class=\"dataframe\">\n",
       "  <thead>\n",
       "    <tr style=\"text-align: right;\">\n",
       "      <th></th>\n",
       "      <th>Id</th>\n",
       "      <th>Idade</th>\n",
       "      <th>Maior_de_Idade_1</th>\n",
       "      <th>Maior_de_Idade_2</th>\n",
       "    </tr>\n",
       "  </thead>\n",
       "  <tbody>\n",
       "    <tr>\n",
       "      <th>0</th>\n",
       "      <td>1</td>\n",
       "      <td>17</td>\n",
       "      <td>Não</td>\n",
       "      <td>Não</td>\n",
       "    </tr>\n",
       "    <tr>\n",
       "      <th>1</th>\n",
       "      <td>2</td>\n",
       "      <td>20</td>\n",
       "      <td>Sim</td>\n",
       "      <td>Sim</td>\n",
       "    </tr>\n",
       "    <tr>\n",
       "      <th>2</th>\n",
       "      <td>3</td>\n",
       "      <td>19</td>\n",
       "      <td>Sim</td>\n",
       "      <td>Sim</td>\n",
       "    </tr>\n",
       "    <tr>\n",
       "      <th>3</th>\n",
       "      <td>4</td>\n",
       "      <td>15</td>\n",
       "      <td>Não</td>\n",
       "      <td>Não</td>\n",
       "    </tr>\n",
       "  </tbody>\n",
       "</table>\n",
       "</div>"
      ],
      "text/plain": [
       "   Id  Idade Maior_de_Idade_1 Maior_de_Idade_2\n",
       "0   1     17              Não              Não\n",
       "1   2     20              Sim              Sim\n",
       "2   3     19              Sim              Sim\n",
       "3   4     15              Não              Não"
      ]
     },
     "execution_count": 40,
     "metadata": {},
     "output_type": "execute_result"
    }
   ],
   "source": [
    "# Filtros\n",
    "df[df['Maior_de_Idade_1'] == 'Sim']\n",
    "\n",
    "# Ordenação\n",
    "df.sort_values(by='Idade')\n",
    "\n",
    "# Soma\n",
    "df['Idade'].sum()\n",
    "\n",
    "# Exclui duplicidades\n",
    "df.drop_duplicates(subset='Id')"
   ]
  }
 ],
 "metadata": {
  "kernelspec": {
   "display_name": "base",
   "language": "python",
   "name": "python3"
  },
  "language_info": {
   "codemirror_mode": {
    "name": "ipython",
    "version": 3
   },
   "file_extension": ".py",
   "mimetype": "text/x-python",
   "name": "python",
   "nbconvert_exporter": "python",
   "pygments_lexer": "ipython3",
   "version": "3.9.16"
  }
 },
 "nbformat": 4,
 "nbformat_minor": 2
}
